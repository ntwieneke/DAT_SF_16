{
 "cells": [
  {
   "cell_type": "markdown",
   "metadata": {},
   "source": [
    "# How frequent are career questions in /r/datascience?"
   ]
  },
  {
   "cell_type": "code",
   "execution_count": 3,
   "metadata": {
    "collapsed": false
   },
   "outputs": [],
   "source": [
    "import praw\n",
    "from pprint import pprint"
   ]
  },
  {
   "cell_type": "code",
   "execution_count": 7,
   "metadata": {
    "collapsed": true
   },
   "outputs": [],
   "source": [
    "user_agent = \"Trend DS analysis 1.0 by /u/dsguy366\"\n",
    "r = praw.Reddit(user_agent=user_agent)"
   ]
  },
  {
   "cell_type": "code",
   "execution_count": 55,
   "metadata": {
    "collapsed": false
   },
   "outputs": [
    {
     "name": "stdout",
     "output_type": "stream",
     "text": [
      "[['1', 'Data science in travel and transportation'], ['1', 'The ideal Data Scientist resume'], ['7', 'The Data of Love and Sex'], ['26', 'AMA Data Scientist: Dr. El-ad David Amir (Custora)'], ['1', 'Data, Technologies and Security - Part 1'], ['13', 'Kaggle Reddit Dataset'], ['1', 'Spread too thin?'], ['5', 'Data Specialist salary, skills, future Data Scientist.'], ['7', 'Optimization in python?'], ['3', 'CSI real-time vehicle tracking might actually be a possibility.'], ['0', \"'Career review' of data science - how to get in, how much good you do, w...\"], ['32', 'Suggestion: /r/data science should sticky a Kaggle Competition of the m...'], ['0', 'Do you have any real examples of Data Science reports?'], ['2', 'Uses for Data Science in Aerospace Engineering (and/or Astronomy, Astrop...'], ['7', 'Personal Website desirable? Examples?'], ['2', 'Data Science Course'], ['1', 'Downloading 18,000 public .pdf files from U.S. State Department for an a...'], ['10', 'I want to ask a senior data scientist: What do you think you would be a...'], ['0', 'Evaluation/Feedback'], ['16', 'An interactive introduction to neural networks'], ['3', 'Worth learning Python as an already experienced R user?'], ['0', 'What is a Histogram, generate a Histogram in Python'], ['2', 'ThingScoop: Utility for searching videos for objects that appear in them...'], ['4', 'I would like to have a chat with a data scientist'], ['0', \"How bad does it look to employers to drop out of a master's program?\"], ['3', 'Interactive graph of product integrations using Pandas'], ['5', 'The New Science of Sentencing: using risk assessment to decide on senten...'], ['13', 'Nobody ever got fired for using Hadoop on a cluster'], ['1', 'Is doing research at my University the wrong way to approach learning R?'], ['34', 'My top-10 technical questions for job candidates'], ['2', 'Understanding Data scientist and Developer'], ['1', 'Question about building up data infrastructure'], ['7', 'Ideas for personal projects to build portfolio?'], ['20', 'Tufte in R'], ['2', 'Anyone here work at Civis Analytics?'], ['2', 'A Few Useful Things to Know about Machine Learning'], ['0', 'Help and Ideas for my class project?'], ['0', 'Confused by all the MapReduce implementations - which to learn first?'], ['4', 'Asked to work for an unfunded startup, good experience anyway?'], ['0', 'Saw this amazing workflow tool on ProductHunt. Guy puts functions into e...'], ['3', 'Command-line tools enable data munging, statistical modeling and data vi...'], ['5', 'GitXiv: Collaborative Open Computer Science'], ['18', 'Amazon Machine Learning (Course)'], ['15', 'How big is/will Spark be?'], ['17', 'Eight Tools That Show What\\xe2\\x80\\x99s on the Horizon for the Python Data Ecosystem'], ['0', 'Running into a Brick Wall here (help pls)'], ['3', 'Law diagrams design using the Unified Modeling Language'], ['0', 'A three-month course in computer programming and data analysis just enou...'], ['1', 'Request for help: Predictive Text Mining + Classification'], ['9', 'Have an interview with the CEO of a small startup for a data scientisty ...'], ['7', 'Good production web app package/library? - R/Python'], ['17', 'GAM: The Predictive Modeling Silver Bullet'], ['0', 'Coinalytics - Sr. Machine Learning Engineer/Data Scientist (Palo Alto, CA)'], ['4', 'Thoughts on data science programs or bootcamps vs a math/CS masters?'], ['13', 'Is there really a shortage of data scientists?'], ['2', 'CodeSchool RegEx Intro Course [free until Friday morning]'], ['5', 'How Google Translate squeezes deep learning onto a phone'], ['8', 'Detecting Diabetic Retinopathy in Eye Images'], ['2', 'Is learning Java useful for a data analyst?'], ['1', 'Statistical Advice for A/B Testing'], ['12', 'Cross Validation done wrong'], ['1', 'Advise on non-free Online Courses'], ['12', 'Quantitative Tindering'], ['17', \"Another day, another article about someone else's career.\"], ['8', \"I'm in a data science bootcamp. Got questions?\"], ['6', 'My github is full of trash. How do I write *good* code?'], ['5', 'sta - fast(er) statistics at the command line'], ['45', 'A Visual Introduction to Machine Learning'], ['1', 'Advice on planning PAAS data/metrics architecture?'], ['17', 'R Moves Up From #9 to #6, But What Does It Mean to Really be Proficient...'], ['25', '3 Data Science for Social Good projects you can replicate in your city'], ['0', '6 tips on providing quality tailored data science services'], ['1', 'Mapping large amounts of data? (x/post from Python)'], ['3', \"What's the best way to analyze data sets from MS SQL Server using Python...\"], ['0', 'Ensembling Kaggle for Charity, experiment and call to action'], ['2', 'Important Career Change decision into Data Science'], ['12', 'A Neural Network in 11 lines of Python'], ['8', 'Data manipulation primitives in R and Python'], ['6', 'Introducing Pandas Objects'], ['0', 'Should I major in Data Science or Applied Business Data Analytics if I a...'], ['4', 'Know of anyone using Big Data for Six Sigma projects?'], ['3', 'Movie Recommendation Algorithms!?'], ['3', 'On taking an important decision in college'], ['2', 'Any tips for the Insight interview?'], ['3', '(Free) Data Engineering Resources?'], ['7', 'How typical is it to clean/munge in one language and then run your analy...'], ['21', 'Was Chris Froome Doping? A Data-Driven Perspective'], ['3', 'Looking for a partner for kaggle Flavours ofPyhisics competition'], ['4', 'Article Feedback Request: \"What the Hell is Logistic Regression?\"'], ['31', 'Continuum Analytics Raises $24M for Anaconda Python and PyData'], ['9', 'Partially Derivative Episode 28: PhDs Are The New BAs!'], ['10', 'How to Turn Your Predictive Models into APIs'], ['0', 'Is there a scope for data science as a startup?'], ['1', 'Johns Hopkins vs George Mason'], ['39', 'Data Scientists to Follow & Best Tutorials on GitHub'], ['17', 'MS Stats degree for actuary'], ['1', 'Bucketing based number of outputs'], ['2', \"What is your definition of a 'data scientist'?\"], ['19', 'Data Science and Disney Movies'], ['8', 'big data & the eclipse of statisticians'], ['5', \"8 lessons you should learn from today's top big data innovators\"], ['1', 'Looking for help with a client without the attention span to do data sci...'], ['1', 'What kind of Statistics is best suited for Data science /Data Mining? Is...'], ['11', '[meta] Wiki / FAQ update re: career posts'], ['5', 'PySpark on a 32-Core Cluster'], ['0', 'Best Big Data Conference?'], ['1', 'Recommend-ify: adding personalized recommendations to Zillow real estate...'], ['1', '[Tutorial] Basics of Logistic Regression in R for Data Scientists - Dete...'], ['4', 'One year masters in data science'], ['2', 'Help for a statistics masters grad'], ['6', 'I need help representing data about 3D changes in vector orientation'], ['23', '[Tutorial] Basics of Linear Regression in R for Data Scientists'], ['3', 'Best way to quantify color?'], ['5', 'Data Science the Hard Way'], ['2', 'Help finding Video'], ['40', '10 Free Online Resources to Get Started with Data Science'], ['2', 'How the SF Chronicle does data journalism'], ['4', 'Using Word2Vec for travel recommendations'], ['15', 'Scaling Data Science at Airbnb'], ['6', 'Why deep learning is taking over tech'], ['0', 'CS student here who has to process data for his thesis. How should I do ...'], ['2', 'Am I on the right track for a data science/business analytics masters pr...'], ['2', 'Has anyone bought this book? How did you like it?'], ['24', 'Deriving the Reddit Formula'], ['4', 'Tracking down the Villains: Outlier Detection at Netflix'], ['22', 'How to actually learn data science'], ['2', 'Social network analysis with NetworkX'], ['2', 'DataCamp Gets $1M Seed Round To Develop Data Science Learning Platform'], ['0', 'How did you get into data science & what is the most important skill for...'], ['16', \"Why does everyone think it's so easy to become a Data Scientist?\"], ['0', 'Im an English major who has a job interview as an associate data scienti...'], ['12', 'Interviews with faculty running new undergraduate data science programs'], ['1', 'Data Science for Hire - 6 tips on providing quality tailored data scienc...'], ['6', 'Analysis with Subjective Data?'], ['51', 'We seriously need to stop the career questions'], ['0', '28 Unemployed, Directionless, & Depressed. Looking into a career in Data...'], ['1', 'Jigsaw academy review'], ['0', 'Can I get some career advice?'], ['1', 'New package \"SparkRext\" \\xe2\\x80\\x93 SparkR extension for closer to dplyr'], ['4', 'A review of a new MOOC about Apache Spark'], ['14', 'Need a new computer for data science work and wondering about Macbook P...'], ['3', 'How important is subject matter experience in data science?'], ['1', 'Data science Math background'], ['1', 'Want to work in the Adtech space with ML, have my summer free, what is s...'], ['8', 'Good book for data science interview questions'], ['3', 'Data Mining course in C/C++/Java. Still worth it?'], ['2', 'video of Polyglot Beaker Notebook at SciPy 2015'], ['16', 'Amazon Machine Learning: use cases and a real example in Python (with c...'], ['1', 'Cat swarm optimization algorithm- maybe we all just need to watch more c...'], ['12', 'What are some interesting industries that hire Data Scientists?'], ['2', 'K-means question on PCA reduced dataset using pythong sci-kit learn'], ['3', 'What advice and resources would you give to a data scientist getting sta...'], ['4', 'Which is the best college/university for Masters in Data science/Big Dat...'], ['1', 'Analysis review forum/subreddit?'], ['10', 'Any Book Recommendation for R exercises?'], ['4', 'AdventureWorks Equivalent for NOSQL db?'], ['0', 'The Data Science Venn Diagram'], ['1', 'Epidemiology to Data Analyst?'], ['8', 'Statistical Advice for A/B Testing'], ['5', 'SQL, MySQL or Nosql. Help me decide which to learn first.'], ['0', 'Data Science recruiters and experienced professionals: hoping to pick yo...'], ['2', 'Book on Regression Models'], ['1', 'Clickstream Information'], ['5', 'Data science career desired but where to start with an MA in Psych?'], ['53', 'Course on Python for Data Science- Numpy, Pandas, SciKit-Learn and more...'], ['2', 'Good Sources for Weather Data?'], ['3', 'Pandas Categoricals'], ['15', 'Recommendations for data science podcasts?'], ['2', 'Walmart employs crowd-sourcing and social to recruit data analytics talent'], ['1', 'Just for fun: 10 unnecessary uses of data that are still totally awesome'], ['24', 'Some Drama in the Data Science Community'], ['7', 'Most prevalent data format for Data Scientists?'], ['13', 'Where to start learning Hadoop?'], ['0', 'Too late to switch to data science? Or just the right time?'], ['0', 'Tennis: A World for Giants'], ['1', 'How good is the book An Introduction to Statistics with Python Author: T...'], ['0', 'Need a tool to do data science better? Try Civis. It was good enough for...'], ['3', 'Proper Name for User Behavior Data Analytics?'], ['8', 'Help understanding word2vec'], ['15', 'Help Solve Data Challenges for Local Communities'], ['5', 'Free online convex optimization book from Cambridge Univeresity with Pyt...'], ['5', 'Djokovic Still has a 56% Chance of Winning Wimbledon After First Week'], ['0', \"I'm interested in Data Science and am at a loss of where to start. Any t...\"], ['4', 'Am I a data analyst or not?'], ['0', 'Curated list of data science schools?'], ['11', 'Building data warehouses for fun and profit'], ['15', 'Intro to Data Science (using R!) course - free!'], ['4', 'Question on data seperation in large csv data file'], ['1', 'Looking for some tips on direction.'], ['23', 'Beyond Tufte - 9 great books about data visualization'], ['2', 'Software Development Analytics - We are sharing some of the tools and sc...'], ['2', 'Do you use OOO design in your code?'], ['22', 'Why you should use both Python and R'], ['2', 'Controversial study suggests Google has thumb on scale in search'], ['6', 'Data Science Masters and Computer Science Masters'], ['9', 'Trending at Instagram - Instagram Engineering'], ['2', 'Analyzing domain and hosting customer data'], ['2', 'Beginning Steps'], ['12', 'Neural Networks, Manifolds, and Topology'], ['2', 'Music Industry Data Analytics']]\n"
     ]
    }
   ],
   "source": [
    "data_science_sub = r.get_subreddit('datascience')\n",
    "split_list = []\n",
    "for submission in data_science_sub.get_new(limit= 200):\n",
    "    submission = str(submission)\n",
    "    split_submission = (submission.split(' :: '))\n",
    "    split_list.append(split_submission)\n",
    "print(split_list)"
   ]
  },
  {
   "cell_type": "code",
   "execution_count": 64,
   "metadata": {
    "collapsed": false
   },
   "outputs": [
    {
     "name": "stdout",
     "output_type": "stream",
     "text": [
      "11\n",
      "    Upvotes                                              Title\n",
      "29       34   My top-10 technical questions for job candidates\n",
      "63       17  Another day, another article about someone els...\n",
      "82        3         On taking an important decision in college\n",
      "95       17                        MS Stats degree for actuary\n",
      "103      11          [meta] Wiki / FAQ update re: career posts\n",
      "130       0  Im an English major who has a job interview as...\n",
      "134      51     We seriously need to stop the career questions\n",
      "135       0  28 Unemployed, Directionless, & Depressed. Loo...\n",
      "137       0                      Can I get some career advice?\n",
      "152       4  Which is the best college/university for Maste...\n",
      "163       5  Data science career desired but where to start...\n"
     ]
    }
   ],
   "source": [
    "import pandas as pd\n",
    "df = pd.DataFrame(split_list, columns=['Upvotes','Title'])\n",
    "df_career = df[df['Title'].str.contains(\"career|job|jobs|college|degree\")]\n",
    "df_career_counter = len(df_career)\n",
    "print(df_career_counter)\n",
    "print(df_career)\n"
   ]
  },
  {
   "cell_type": "code",
   "execution_count": 71,
   "metadata": {
    "collapsed": false
   },
   "outputs": [
    {
     "data": {
      "text/html": [
       "<script type=\"text/javascript\">\n",
       "        Bokeh.$(function() {\n",
       "            var all_models = [{\"attributes\": {\"plot\": {\"subtype\": \"Figure\", \"type\": \"Plot\", \"id\": \"a916ccfa-2d5d-43ac-968a-7c5e44c09ea9\"}, \"tags\": [], \"doc\": null, \"formatter\": {\"type\": \"BasicTickFormatter\", \"id\": \"64033ed9-85d8-4b09-80b3-8cc3b4c18ec2\"}, \"ticker\": {\"type\": \"BasicTicker\", \"id\": \"050ed541-6c36-453f-a40e-69cf495f2337\"}, \"id\": \"ba167e16-65ef-4a08-a57b-553bf41739af\"}, \"type\": \"LinearAxis\", \"id\": \"ba167e16-65ef-4a08-a57b-553bf41739af\"}, {\"attributes\": {\"doc\": null, \"id\": \"64033ed9-85d8-4b09-80b3-8cc3b4c18ec2\", \"tags\": []}, \"type\": \"BasicTickFormatter\", \"id\": \"64033ed9-85d8-4b09-80b3-8cc3b4c18ec2\"}, {\"attributes\": {\"plot\": {\"subtype\": \"Figure\", \"type\": \"Plot\", \"id\": \"a916ccfa-2d5d-43ac-968a-7c5e44c09ea9\"}, \"tags\": [], \"doc\": null, \"id\": \"e761123d-e8b4-4b76-b830-9043ab6aa02c\"}, \"type\": \"HelpTool\", \"id\": \"e761123d-e8b4-4b76-b830-9043ab6aa02c\"}, {\"attributes\": {\"plot\": {\"subtype\": \"Figure\", \"type\": \"Plot\", \"id\": \"a916ccfa-2d5d-43ac-968a-7c5e44c09ea9\"}, \"tags\": [], \"doc\": null, \"dimension\": 1, \"ticker\": {\"type\": \"BasicTicker\", \"id\": \"050ed541-6c36-453f-a40e-69cf495f2337\"}, \"id\": \"8d2f4f78-19dc-4f1d-99f1-76c36be40c14\"}, \"type\": \"Grid\", \"id\": \"8d2f4f78-19dc-4f1d-99f1-76c36be40c14\"}, {\"attributes\": {\"end\": 1, \"callback\": null, \"doc\": null, \"tags\": [], \"start\": -1, \"id\": \"9ad5b1ec-811d-40e1-acd2-3bba15441533\"}, \"type\": \"Range1d\", \"id\": \"9ad5b1ec-811d-40e1-acd2-3bba15441533\"}, {\"attributes\": {\"nonselection_glyph\": {\"type\": \"Wedge\", \"id\": \"4bbd0609-e4a4-403c-98ed-551acd73b7d8\"}, \"data_source\": {\"type\": \"ColumnDataSource\", \"id\": \"87b2b13a-69cf-4c3d-8bfc-8c7fa8d8f3b8\"}, \"tags\": [], \"doc\": null, \"selection_glyph\": null, \"id\": \"52d0a9b0-806d-40f8-bc06-4c96d34b1e2d\", \"glyph\": {\"type\": \"Wedge\", \"id\": \"a2a6e3fa-0e1f-4520-821e-6c64025bac57\"}}, \"type\": \"GlyphRenderer\", \"id\": \"52d0a9b0-806d-40f8-bc06-4c96d34b1e2d\"}, {\"attributes\": {\"geometries\": [], \"tags\": [], \"doc\": null, \"id\": \"5a7c52d4-83a6-4ff4-afdd-fd53542bd0c0\"}, \"type\": \"ToolEvents\", \"id\": \"5a7c52d4-83a6-4ff4-afdd-fd53542bd0c0\"}, {\"attributes\": {\"plot\": {\"subtype\": \"Figure\", \"type\": \"Plot\", \"id\": \"a916ccfa-2d5d-43ac-968a-7c5e44c09ea9\"}, \"tags\": [], \"doc\": null, \"id\": \"4a54684f-d707-46c9-bd40-642773c0b454\"}, \"type\": \"ResetTool\", \"id\": \"4a54684f-d707-46c9-bd40-642773c0b454\"}, {\"attributes\": {\"tags\": [], \"doc\": null, \"mantissas\": [2, 5, 10], \"id\": \"0554c6e1-7c30-4361-a1cd-7ddda2697669\", \"num_minor_ticks\": 5}, \"type\": \"BasicTicker\", \"id\": \"0554c6e1-7c30-4361-a1cd-7ddda2697669\"}, {\"attributes\": {\"plot\": {\"subtype\": \"Figure\", \"type\": \"Plot\", \"id\": \"a916ccfa-2d5d-43ac-968a-7c5e44c09ea9\"}, \"dimensions\": [\"width\", \"height\"], \"tags\": [], \"doc\": null, \"id\": \"b5ce0281-9162-4df8-963d-cd23358cbd35\"}, \"type\": \"WheelZoomTool\", \"id\": \"b5ce0281-9162-4df8-963d-cd23358cbd35\"}, {\"attributes\": {\"plot\": {\"subtype\": \"Figure\", \"type\": \"Plot\", \"id\": \"a916ccfa-2d5d-43ac-968a-7c5e44c09ea9\"}, \"dimensions\": [\"width\", \"height\"], \"tags\": [], \"doc\": null, \"id\": \"a1117b5c-1a0c-4f6d-a774-c4c7d0b6aba2\"}, \"type\": \"BoxZoomTool\", \"id\": \"a1117b5c-1a0c-4f6d-a774-c4c7d0b6aba2\"}, {\"attributes\": {\"line_color\": {\"value\": \"#1f77b4\"}, \"line_alpha\": {\"value\": 0.1}, \"fill_color\": {\"value\": \"#1f77b4\"}, \"tags\": [], \"doc\": null, \"start_angle\": {\"units\": \"rad\", \"field\": \"start_angle\"}, \"fill_alpha\": {\"value\": 0.1}, \"end_angle\": {\"units\": \"rad\", \"field\": \"end_angle\"}, \"radius\": {\"units\": \"data\", \"value\": 1}, \"y\": {\"value\": 0}, \"x\": {\"value\": 0}, \"id\": \"4bbd0609-e4a4-403c-98ed-551acd73b7d8\"}, \"type\": \"Wedge\", \"id\": \"4bbd0609-e4a4-403c-98ed-551acd73b7d8\"}, {\"subtype\": \"Figure\", \"type\": \"Plot\", \"id\": \"a916ccfa-2d5d-43ac-968a-7c5e44c09ea9\", \"attributes\": {\"x_range\": {\"type\": \"Range1d\", \"id\": \"e24788c8-1895-43ba-bce4-5716067b45a7\"}, \"right\": [], \"tags\": [], \"y_range\": {\"type\": \"Range1d\", \"id\": \"9ad5b1ec-811d-40e1-acd2-3bba15441533\"}, \"renderers\": [{\"type\": \"LinearAxis\", \"id\": \"29fcb9e2-bc5f-45cf-a0e0-319d574debb2\"}, {\"type\": \"Grid\", \"id\": \"de1e1116-b28b-43df-80fb-3463aa94f11f\"}, {\"type\": \"LinearAxis\", \"id\": \"ba167e16-65ef-4a08-a57b-553bf41739af\"}, {\"type\": \"Grid\", \"id\": \"8d2f4f78-19dc-4f1d-99f1-76c36be40c14\"}, {\"type\": \"GlyphRenderer\", \"id\": \"52d0a9b0-806d-40f8-bc06-4c96d34b1e2d\"}], \"extra_y_ranges\": {}, \"extra_x_ranges\": {}, \"tool_events\": {\"type\": \"ToolEvents\", \"id\": \"5a7c52d4-83a6-4ff4-afdd-fd53542bd0c0\"}, \"above\": [], \"doc\": null, \"id\": \"a916ccfa-2d5d-43ac-968a-7c5e44c09ea9\", \"tools\": [{\"type\": \"PanTool\", \"id\": \"751b7b72-d956-4ffc-bce6-3799b597b0d6\"}, {\"type\": \"WheelZoomTool\", \"id\": \"b5ce0281-9162-4df8-963d-cd23358cbd35\"}, {\"type\": \"BoxZoomTool\", \"id\": \"a1117b5c-1a0c-4f6d-a774-c4c7d0b6aba2\"}, {\"type\": \"PreviewSaveTool\", \"id\": \"f94e07d0-962c-4ea6-beb9-906c5bdb6300\"}, {\"type\": \"ResizeTool\", \"id\": \"9c32736e-2567-4bc6-a52f-768e85a88492\"}, {\"type\": \"ResetTool\", \"id\": \"4a54684f-d707-46c9-bd40-642773c0b454\"}, {\"type\": \"HelpTool\", \"id\": \"e761123d-e8b4-4b76-b830-9043ab6aa02c\"}], \"below\": [{\"type\": \"LinearAxis\", \"id\": \"29fcb9e2-bc5f-45cf-a0e0-319d574debb2\"}], \"left\": [{\"type\": \"LinearAxis\", \"id\": \"ba167e16-65ef-4a08-a57b-553bf41739af\"}]}}, {\"attributes\": {\"doc\": null, \"id\": \"a79c15fd-c79b-45e2-95b2-bf830898e58b\", \"tags\": []}, \"type\": \"BasicTickFormatter\", \"id\": \"a79c15fd-c79b-45e2-95b2-bf830898e58b\"}, {\"attributes\": {\"plot\": {\"subtype\": \"Figure\", \"type\": \"Plot\", \"id\": \"a916ccfa-2d5d-43ac-968a-7c5e44c09ea9\"}, \"tags\": [], \"doc\": null, \"formatter\": {\"type\": \"BasicTickFormatter\", \"id\": \"a79c15fd-c79b-45e2-95b2-bf830898e58b\"}, \"ticker\": {\"type\": \"BasicTicker\", \"id\": \"0554c6e1-7c30-4361-a1cd-7ddda2697669\"}, \"id\": \"29fcb9e2-bc5f-45cf-a0e0-319d574debb2\"}, \"type\": \"LinearAxis\", \"id\": \"29fcb9e2-bc5f-45cf-a0e0-319d574debb2\"}, {\"attributes\": {\"plot\": {\"subtype\": \"Figure\", \"type\": \"Plot\", \"id\": \"a916ccfa-2d5d-43ac-968a-7c5e44c09ea9\"}, \"tags\": [], \"doc\": null, \"id\": \"9c32736e-2567-4bc6-a52f-768e85a88492\"}, \"type\": \"ResizeTool\", \"id\": \"9c32736e-2567-4bc6-a52f-768e85a88492\"}, {\"attributes\": {\"plot\": {\"subtype\": \"Figure\", \"type\": \"Plot\", \"id\": \"a916ccfa-2d5d-43ac-968a-7c5e44c09ea9\"}, \"dimensions\": [\"width\", \"height\"], \"tags\": [], \"doc\": null, \"id\": \"751b7b72-d956-4ffc-bce6-3799b597b0d6\"}, \"type\": \"PanTool\", \"id\": \"751b7b72-d956-4ffc-bce6-3799b597b0d6\"}, {\"attributes\": {\"plot\": {\"subtype\": \"Figure\", \"type\": \"Plot\", \"id\": \"a916ccfa-2d5d-43ac-968a-7c5e44c09ea9\"}, \"tags\": [], \"doc\": null, \"id\": \"f94e07d0-962c-4ea6-beb9-906c5bdb6300\"}, \"type\": \"PreviewSaveTool\", \"id\": \"f94e07d0-962c-4ea6-beb9-906c5bdb6300\"}, {\"attributes\": {\"tags\": [], \"doc\": null, \"mantissas\": [2, 5, 10], \"id\": \"050ed541-6c36-453f-a40e-69cf495f2337\", \"num_minor_ticks\": 5}, \"type\": \"BasicTicker\", \"id\": \"050ed541-6c36-453f-a40e-69cf495f2337\"}, {\"attributes\": {\"column_names\": [\"start_angle\", \"end_angle\", \"line_color\", \"fill_color\"], \"tags\": [], \"doc\": null, \"selected\": {\"2d\": {\"indices\": []}, \"1d\": {\"indices\": []}, \"0d\": {\"indices\": [], \"flag\": false}}, \"callback\": null, \"data\": {\"line_color\": [\"green\", \"red\"], \"fill_color\": [\"green\", \"red\"], \"end_angle\": [0.0, 6.283185307179586], \"start_angle\": [0.0, 0.0]}, \"id\": \"87b2b13a-69cf-4c3d-8bfc-8c7fa8d8f3b8\"}, \"type\": \"ColumnDataSource\", \"id\": \"87b2b13a-69cf-4c3d-8bfc-8c7fa8d8f3b8\"}, {\"attributes\": {\"line_color\": {\"field\": \"line_color\"}, \"line_alpha\": {\"value\": 1.0}, \"fill_color\": {\"field\": \"fill_color\"}, \"tags\": [], \"doc\": null, \"start_angle\": {\"units\": \"rad\", \"field\": \"start_angle\"}, \"fill_alpha\": {\"value\": 1.0}, \"end_angle\": {\"units\": \"rad\", \"field\": \"end_angle\"}, \"radius\": {\"units\": \"data\", \"value\": 1}, \"y\": {\"value\": 0}, \"x\": {\"value\": 0}, \"id\": \"a2a6e3fa-0e1f-4520-821e-6c64025bac57\"}, \"type\": \"Wedge\", \"id\": \"a2a6e3fa-0e1f-4520-821e-6c64025bac57\"}, {\"attributes\": {\"plot\": {\"subtype\": \"Figure\", \"type\": \"Plot\", \"id\": \"a916ccfa-2d5d-43ac-968a-7c5e44c09ea9\"}, \"tags\": [], \"doc\": null, \"dimension\": 0, \"ticker\": {\"type\": \"BasicTicker\", \"id\": \"0554c6e1-7c30-4361-a1cd-7ddda2697669\"}, \"id\": \"de1e1116-b28b-43df-80fb-3463aa94f11f\"}, \"type\": \"Grid\", \"id\": \"de1e1116-b28b-43df-80fb-3463aa94f11f\"}, {\"attributes\": {\"end\": 1, \"callback\": null, \"doc\": null, \"tags\": [], \"start\": -1, \"id\": \"e24788c8-1895-43ba-bce4-5716067b45a7\"}, \"type\": \"Range1d\", \"id\": \"e24788c8-1895-43ba-bce4-5716067b45a7\"}];\n",
       "            Bokeh.load_models(all_models);\n",
       "            var plots = [{'modeltype': 'Plot', 'elementid': '#e4fa45a5-43f3-488f-8511-af17a7685498', 'modelid': 'a916ccfa-2d5d-43ac-968a-7c5e44c09ea9'}];\n",
       "            for (idx in plots) {\n",
       "            \tvar plot = plots[idx];\n",
       "            \tvar model = Bokeh.Collections(plot.modeltype).get(plot.modelid);\n",
       "            \tBokeh.logger.info('Realizing plot:')\n",
       "            \tBokeh.logger.info(' - modeltype: ' + plot.modeltype);\n",
       "            \tBokeh.logger.info(' - modelid: ' + plot.modelid);\n",
       "            \tBokeh.logger.info(' - elementid: ' + plot.elementid);\n",
       "            \tvar view = new model.default_view({\n",
       "            \t\tmodel: model,\n",
       "            \t\tel: plot.elementid\n",
       "            \t});\n",
       "            \tBokeh.index[plot.modelid] = view;\n",
       "            }\n",
       "        });\n",
       "    </script>\n",
       "<div class=\"plotdiv\" id=\"e4fa45a5-43f3-488f-8511-af17a7685498\"></div>\n",
       "\n"
      ]
     },
     "metadata": {},
     "output_type": "display_data"
    }
   ],
   "source": [
    "from bokeh.plotting import figure\n",
    "from numpy import pi\n",
    "\n",
    "percents = [0,df_career_counter/200,  1]\n",
    "starts = [p*2*pi for p in percents[:-1]]\n",
    "ends = [p*2*pi for p in percents[1:]]\n",
    "\n",
    "colors = [\"green\", \"red\"]\n",
    "\n",
    "p = figure(x_range=(-1,1), y_range=(-1,1))\n",
    "\n",
    "p.wedge(x=0, y=0, radius=1, start_angle=starts, end_angle=ends, color=colors)\n",
    "\n",
    "show(p)"
   ]
  },
  {
   "cell_type": "code",
   "execution_count": null,
   "metadata": {
    "collapsed": true
   },
   "outputs": [],
   "source": []
  }
 ],
 "metadata": {
  "kernelspec": {
   "display_name": "Python 2",
   "language": "python",
   "name": "python2"
  },
  "language_info": {
   "codemirror_mode": {
    "name": "ipython",
    "version": 2
   },
   "file_extension": ".py",
   "mimetype": "text/x-python",
   "name": "python",
   "nbconvert_exporter": "python",
   "pygments_lexer": "ipython2",
   "version": "2.7.10"
  }
 },
 "nbformat": 4,
 "nbformat_minor": 0
}
