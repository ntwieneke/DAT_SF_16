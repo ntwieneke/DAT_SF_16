{
 "cells": [
  {
   "cell_type": "markdown",
   "metadata": {},
   "source": [
    "# HW 3 Nathan\n",
    "\n",
    "This homework contains data on with stats on various medical information for a set of Pima Indians patients.\n",
    "\n",
    "Some data is 'missing' (ie. a person cannot have a BMI of 0) but has a zero value rather than a null value.  Since it is physically impossible for these values to be 0, I will remove those rows from the dataframe used in the algorithim.\n",
    "\n",
    "There are 9 features that have been normalized."
   ]
  },
  {
   "cell_type": "markdown",
   "metadata": {},
   "source": [
    "Attribute information:  \n",
    "  \n",
    "  1. Number of times pregnant\n",
    "   2. Plasma glucose concentration a 2 hours in an oral glucose tolerance test\n",
    "   3. Diastolic blood pressure (mm Hg)\n",
    "   4. Triceps skin fold thickness (mm)\n",
    "   5. 2-Hour serum insulin (mu U/ml)\n",
    "   6. Body mass index (weight in kg/(height in m)^2)\n",
    "   7. Diabetes pedigree function\n",
    "   8. Age (years)\n",
    "   9. Class variable (0 or 1)\n",
    "   (class value 1 is interpreted as \"tested positive for\n",
    "   diabetes\")"
   ]
  },
  {
   "cell_type": "code",
   "execution_count": 46,
   "metadata": {
    "collapsed": false
   },
   "outputs": [],
   "source": [
    "import pandas as pd\n",
    "import numpy as np\n",
    "\n",
    "df = pd.DataFrame.from_csv(\"pima_indian_diabetes.csv\", header=None, index_col=None)\n",
    "df.head()\n",
    "df.columns = [\"Pregnant\", \"Glucose\",\"Blood_Pressure\", \"Triceps\", \"Insulin\", \"BMI\", \"Pedigree\",\"Age\", \"Class\"]"
   ]
  },
  {
   "cell_type": "code",
   "execution_count": 49,
   "metadata": {
    "collapsed": false
   },
   "outputs": [
    {
     "name": "stdout",
     "output_type": "stream",
     "text": [
      "<class 'pandas.core.frame.DataFrame'>\n",
      "Int64Index: 768 entries, 0 to 767\n",
      "Data columns (total 9 columns):\n",
      "Pregnant          768 non-null int64\n",
      "Glucose           768 non-null int64\n",
      "Blood_Pressure    768 non-null int64\n",
      "Triceps           768 non-null int64\n",
      "Insulin           768 non-null int64\n",
      "BMI               768 non-null float64\n",
      "Pedigree          768 non-null float64\n",
      "Age               768 non-null int64\n",
      "Class             768 non-null int64\n",
      "dtypes: float64(2), int64(7)\n",
      "memory usage: 60.0 KB\n"
     ]
    }
   ],
   "source": [
    "df.head()\n",
    "df.describe()\n",
    "df.info()"
   ]
  },
  {
   "cell_type": "code",
   "execution_count": 48,
   "metadata": {
    "collapsed": false
   },
   "outputs": [
    {
     "name": "stdout",
     "output_type": "stream",
     "text": [
      "Empty DataFrame\n",
      "Columns: [Pregnant, Glucose, Blood_Pressure, Triceps, Insulin, BMI, Pedigree, Age, Class]\n",
      "Index: []\n",
      "Empty DataFrame\n",
      "Columns: [Pregnant, Glucose, Blood_Pressure, Triceps, Insulin, BMI, Pedigree, Age, Class]\n",
      "Index: []\n",
      "Empty DataFrame\n",
      "Columns: [Pregnant, Glucose, Blood_Pressure, Triceps, Insulin, BMI, Pedigree, Age, Class]\n",
      "Index: []\n",
      "Empty DataFrame\n",
      "Columns: [Pregnant, Glucose, Blood_Pressure, Triceps, Insulin, BMI, Pedigree, Age, Class]\n",
      "Index: []\n"
     ]
    }
   ],
   "source": [
    "# print(df[df.BMI == 0])\n",
    "# print(df[df.Glucose == 0])\n",
    "# print(df[df.Blood_Pressure == 0])\n",
    "# print(df[df.Triceps == 0])\n",
    "\n",
    "# These are columns with that have values of 0 where it is physically impossible, they will need to be cleaned\n",
    "\n",
    "df_clean = df[df.BMI != 0]\n",
    "df_clean = df_clean[df_clean.Blood_Pressure != 0]\n",
    "df_clean = df_clean[df_clean.Glucose != 0]\n",
    "df_clean = df_clean[df_clean.Triceps != 0]\n",
    "\n",
    "# verify that cleaning worked:\n",
    "\n",
    "\n",
    "print(df_clean[df_clean.BMI == 0])\n",
    "print(df_clean[df_clean.Glucose == 0])\n",
    "print(df_clean[df_clean.Blood_Pressure == 0])\n",
    "print(df_clean[df_clean.Triceps == 0])\n"
   ]
  },
  {
   "cell_type": "code",
   "execution_count": 50,
   "metadata": {
    "collapsed": true
   },
   "outputs": [],
   "source": [
    "# df_clean should now have all rows without 0 values of essential features, time to setup KNN\n",
    "\n",
    "from sklearn.neighbors import KNeighborsClassifier\n",
    "\n",
    "model = KNeighborsClassifier(5)\n",
    "\n",
    "to_predict = \"Class\"\n",
    "features=[\"Pregnant\", \"Glucose\",\"Blood_Pressure\", \"Triceps\", \"Insulin\", \"BMI\", \"Pedigree\",\"Age\"]\n",
    "data = df_clean[features]\n",
    "label = df_clean[to_predict]\n",
    "folds=5\n",
    "\n"
   ]
  },
  {
   "cell_type": "code",
   "execution_count": 51,
   "metadata": {
    "collapsed": true
   },
   "outputs": [],
   "source": [
    "# crossvalidate code from lecture:\n",
    "\n",
    "def crossValidateScoreDataFrame(data,label,k,model):\n",
    "    positions = data.index.values\n",
    "    np.random.shuffle(positions)\n",
    "    cv_score=0\n",
    "\n",
    "    for i in range(k):\n",
    "        pos_var = len(data)/k\n",
    "        \n",
    "        test_slice = positions[i*pos_var:(i+1)*pos_var]\n",
    "\n",
    "        train_1 = positions[ :i*pos_var]\n",
    "        train_2 = positions[(i+1)*pos_var:]\n",
    "        train_slice = np.concatenate([train_1,train_2])\n",
    "\n",
    "        model.fit(data.loc[train_slice],label.loc[train_slice])\n",
    "        k_score = model.score(data.loc[test_slice],label.loc[test_slice])\n",
    "        cv_score += k_score\n",
    "        print k_score\n",
    "        \n",
    "    return  cv_score/k"
   ]
  },
  {
   "cell_type": "code",
   "execution_count": 52,
   "metadata": {
    "collapsed": false
   },
   "outputs": [
    {
     "name": "stdout",
     "output_type": "stream",
     "text": [
      "0.72641509434\n",
      "0.650943396226\n",
      "0.764150943396\n",
      "0.745283018868\n",
      "0.72641509434\n"
     ]
    },
    {
     "data": {
      "text/plain": [
       "0.72264150943396221"
      ]
     },
     "execution_count": 52,
     "metadata": {},
     "output_type": "execute_result"
    }
   ],
   "source": [
    "# running KNN\n",
    "\n",
    "crossValidateScoreDataFrame(data,label,5,model)\n",
    "\n",
    "# KNN can predict with about a %72 accuracy\n"
   ]
  },
  {
   "cell_type": "markdown",
   "metadata": {},
   "source": [
    "Time to use Naive Bayes"
   ]
  },
  {
   "cell_type": "code",
   "execution_count": 54,
   "metadata": {
    "collapsed": false
   },
   "outputs": [
    {
     "ename": "TypeError",
     "evalue": "object of type 'bool' has no len()",
     "output_type": "error",
     "traceback": [
      "\u001b[0;31m---------------------------------------------------------------------------\u001b[0m",
      "\u001b[0;31mTypeError\u001b[0m                                 Traceback (most recent call last)",
      "\u001b[0;32m<ipython-input-54-16ade5889a9f>\u001b[0m in \u001b[0;36m<module>\u001b[0;34m()\u001b[0m\n\u001b[1;32m      1\u001b[0m \u001b[0;32mfrom\u001b[0m \u001b[0msklearn\u001b[0m\u001b[0;34m.\u001b[0m\u001b[0mnaive_bayes\u001b[0m \u001b[0;32mimport\u001b[0m \u001b[0mMultinomialNB\u001b[0m\u001b[0;34m\u001b[0m\u001b[0m\n\u001b[1;32m      2\u001b[0m \u001b[0;34m\u001b[0m\u001b[0m\n\u001b[0;32m----> 3\u001b[0;31m \u001b[0mcrossValidateScoreDataFrame\u001b[0m\u001b[0;34m(\u001b[0m\u001b[0mdata\u001b[0m\u001b[0;34m,\u001b[0m\u001b[0mlabel\u001b[0m\u001b[0;34m,\u001b[0m\u001b[0;36m5\u001b[0m\u001b[0;34m,\u001b[0m\u001b[0mMultinomialNB\u001b[0m\u001b[0;34m(\u001b[0m\u001b[0;36m1\u001b[0m\u001b[0;34m,\u001b[0m\u001b[0mNone\u001b[0m\u001b[0;34m,\u001b[0m\u001b[0mTrue\u001b[0m\u001b[0;34m)\u001b[0m\u001b[0;34m)\u001b[0m\u001b[0;34m\u001b[0m\u001b[0m\n\u001b[0m",
      "\u001b[0;32m<ipython-input-51-338076935144>\u001b[0m in \u001b[0;36mcrossValidateScoreDataFrame\u001b[0;34m(data, label, k, model)\u001b[0m\n\u001b[1;32m     15\u001b[0m         \u001b[0mtrain_slice\u001b[0m \u001b[0;34m=\u001b[0m \u001b[0mnp\u001b[0m\u001b[0;34m.\u001b[0m\u001b[0mconcatenate\u001b[0m\u001b[0;34m(\u001b[0m\u001b[0;34m[\u001b[0m\u001b[0mtrain_1\u001b[0m\u001b[0;34m,\u001b[0m\u001b[0mtrain_2\u001b[0m\u001b[0;34m]\u001b[0m\u001b[0;34m)\u001b[0m\u001b[0;34m\u001b[0m\u001b[0m\n\u001b[1;32m     16\u001b[0m \u001b[0;34m\u001b[0m\u001b[0m\n\u001b[0;32m---> 17\u001b[0;31m         \u001b[0mmodel\u001b[0m\u001b[0;34m.\u001b[0m\u001b[0mfit\u001b[0m\u001b[0;34m(\u001b[0m\u001b[0mdata\u001b[0m\u001b[0;34m.\u001b[0m\u001b[0mloc\u001b[0m\u001b[0;34m[\u001b[0m\u001b[0mtrain_slice\u001b[0m\u001b[0;34m]\u001b[0m\u001b[0;34m,\u001b[0m\u001b[0mlabel\u001b[0m\u001b[0;34m.\u001b[0m\u001b[0mloc\u001b[0m\u001b[0;34m[\u001b[0m\u001b[0mtrain_slice\u001b[0m\u001b[0;34m]\u001b[0m\u001b[0;34m)\u001b[0m\u001b[0;34m\u001b[0m\u001b[0m\n\u001b[0m\u001b[1;32m     18\u001b[0m         \u001b[0mk_score\u001b[0m \u001b[0;34m=\u001b[0m \u001b[0mmodel\u001b[0m\u001b[0;34m.\u001b[0m\u001b[0mscore\u001b[0m\u001b[0;34m(\u001b[0m\u001b[0mdata\u001b[0m\u001b[0;34m.\u001b[0m\u001b[0mloc\u001b[0m\u001b[0;34m[\u001b[0m\u001b[0mtest_slice\u001b[0m\u001b[0;34m]\u001b[0m\u001b[0;34m,\u001b[0m\u001b[0mlabel\u001b[0m\u001b[0;34m.\u001b[0m\u001b[0mloc\u001b[0m\u001b[0;34m[\u001b[0m\u001b[0mtest_slice\u001b[0m\u001b[0;34m]\u001b[0m\u001b[0;34m)\u001b[0m\u001b[0;34m\u001b[0m\u001b[0m\n\u001b[1;32m     19\u001b[0m         \u001b[0mcv_score\u001b[0m \u001b[0;34m+=\u001b[0m \u001b[0mk_score\u001b[0m\u001b[0;34m\u001b[0m\u001b[0m\n",
      "\u001b[0;32m/Users/nathanbackblaze/anaconda/lib/python2.7/site-packages/sklearn/naive_bayes.pyc\u001b[0m in \u001b[0;36mfit\u001b[0;34m(self, X, y, sample_weight)\u001b[0m\n\u001b[1;32m    324\u001b[0m         \u001b[0mself\u001b[0m\u001b[0;34m.\u001b[0m\u001b[0m_count\u001b[0m\u001b[0;34m(\u001b[0m\u001b[0mX\u001b[0m\u001b[0;34m,\u001b[0m \u001b[0mY\u001b[0m\u001b[0;34m)\u001b[0m\u001b[0;34m\u001b[0m\u001b[0m\n\u001b[1;32m    325\u001b[0m         \u001b[0mself\u001b[0m\u001b[0;34m.\u001b[0m\u001b[0m_update_feature_log_prob\u001b[0m\u001b[0;34m(\u001b[0m\u001b[0;34m)\u001b[0m\u001b[0;34m\u001b[0m\u001b[0m\n\u001b[0;32m--> 326\u001b[0;31m         \u001b[0mself\u001b[0m\u001b[0;34m.\u001b[0m\u001b[0m_update_class_log_prior\u001b[0m\u001b[0;34m(\u001b[0m\u001b[0mclass_prior\u001b[0m\u001b[0;34m=\u001b[0m\u001b[0mclass_prior\u001b[0m\u001b[0;34m)\u001b[0m\u001b[0;34m\u001b[0m\u001b[0m\n\u001b[0m\u001b[1;32m    327\u001b[0m         \u001b[0;32mreturn\u001b[0m \u001b[0mself\u001b[0m\u001b[0;34m\u001b[0m\u001b[0m\n\u001b[1;32m    328\u001b[0m \u001b[0;34m\u001b[0m\u001b[0m\n",
      "\u001b[0;32m/Users/nathanbackblaze/anaconda/lib/python2.7/site-packages/sklearn/naive_bayes.pyc\u001b[0m in \u001b[0;36m_update_class_log_prior\u001b[0;34m(self, class_prior)\u001b[0m\n\u001b[1;32m    192\u001b[0m         \u001b[0mn_classes\u001b[0m \u001b[0;34m=\u001b[0m \u001b[0mlen\u001b[0m\u001b[0;34m(\u001b[0m\u001b[0mself\u001b[0m\u001b[0;34m.\u001b[0m\u001b[0mclasses_\u001b[0m\u001b[0;34m)\u001b[0m\u001b[0;34m\u001b[0m\u001b[0m\n\u001b[1;32m    193\u001b[0m         \u001b[0;32mif\u001b[0m \u001b[0mclass_prior\u001b[0m \u001b[0;32mis\u001b[0m \u001b[0;32mnot\u001b[0m \u001b[0mNone\u001b[0m\u001b[0;34m:\u001b[0m\u001b[0;34m\u001b[0m\u001b[0m\n\u001b[0;32m--> 194\u001b[0;31m             \u001b[0;32mif\u001b[0m \u001b[0mlen\u001b[0m\u001b[0;34m(\u001b[0m\u001b[0mclass_prior\u001b[0m\u001b[0;34m)\u001b[0m \u001b[0;34m!=\u001b[0m \u001b[0mn_classes\u001b[0m\u001b[0;34m:\u001b[0m\u001b[0;34m\u001b[0m\u001b[0m\n\u001b[0m\u001b[1;32m    195\u001b[0m                 raise ValueError(\"Number of priors must match number of\"\n\u001b[1;32m    196\u001b[0m                                  \" classes.\")\n",
      "\u001b[0;31mTypeError\u001b[0m: object of type 'bool' has no len()"
     ]
    }
   ],
   "source": [
    "from sklearn.naive_bayes import MultinomialNB\n",
    "\n",
    "crossValidateScoreDataFrame(data,label,5,MultinomialNB(1,None,True))"
   ]
  },
  {
   "cell_type": "code",
   "execution_count": null,
   "metadata": {
    "collapsed": true
   },
   "outputs": [],
   "source": []
  }
 ],
 "metadata": {
  "kernelspec": {
   "display_name": "Python 2",
   "language": "python",
   "name": "python2"
  },
  "language_info": {
   "codemirror_mode": {
    "name": "ipython",
    "version": 2
   },
   "file_extension": ".py",
   "mimetype": "text/x-python",
   "name": "python",
   "nbconvert_exporter": "python",
   "pygments_lexer": "ipython2",
   "version": "2.7.10"
  }
 },
 "nbformat": 4,
 "nbformat_minor": 0
}
