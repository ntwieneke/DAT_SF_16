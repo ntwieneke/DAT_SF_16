{
 "cells": [
  {
   "cell_type": "code",
   "execution_count": 57,
   "metadata": {
    "collapsed": true
   },
   "outputs": [],
   "source": [
    "import pandas as pd\n",
    "import numpy as np"
   ]
  },
  {
   "cell_type": "code",
   "execution_count": 58,
   "metadata": {
    "collapsed": true
   },
   "outputs": [],
   "source": [
    "import recsys.algorithm\n",
    "recsys.algorithm.VERBOSE = True\n",
    "from recsys.algorithm.factorize import SVD"
   ]
  },
  {
   "cell_type": "code",
   "execution_count": 59,
   "metadata": {
    "collapsed": false,
    "scrolled": true
   },
   "outputs": [
    {
     "name": "stderr",
     "output_type": "stream",
     "text": [
      "Skipping line 6452: expected 8 fields, saw 9\n",
      "Skipping line 43667: expected 8 fields, saw 10\n",
      "Skipping line 51751: expected 8 fields, saw 9\n",
      "\n",
      "Skipping line 92038: expected 8 fields, saw 9\n",
      "Skipping line 104319: expected 8 fields, saw 9\n",
      "Skipping line 121768: expected 8 fields, saw 9\n",
      "\n",
      "Skipping line 144058: expected 8 fields, saw 9\n",
      "Skipping line 150789: expected 8 fields, saw 9\n",
      "Skipping line 157128: expected 8 fields, saw 9\n",
      "Skipping line 180189: expected 8 fields, saw 9\n",
      "Skipping line 185738: expected 8 fields, saw 9\n",
      "\n",
      "Skipping line 209388: expected 8 fields, saw 9\n",
      "Skipping line 220626: expected 8 fields, saw 9\n",
      "Skipping line 227933: expected 8 fields, saw 11\n",
      "Skipping line 228957: expected 8 fields, saw 10\n",
      "Skipping line 245933: expected 8 fields, saw 9\n",
      "Skipping line 251296: expected 8 fields, saw 9\n",
      "Skipping line 259941: expected 8 fields, saw 9\n",
      "Skipping line 261529: expected 8 fields, saw 9\n",
      "\n"
     ]
    }
   ],
   "source": [
    "df_book_ratings = pd.read_csv('BX-Book-Ratings.csv', sep=\";\", error_bad_lines=False)\n",
    "df_books = pd.read_csv('BX-Books.csv', sep=\";\", error_bad_lines=False)\n",
    "df_users = pd.read_csv('BX-Users.csv', sep=\";\", error_bad_lines=False)"
   ]
  },
  {
   "cell_type": "code",
   "execution_count": 60,
   "metadata": {
    "collapsed": false
   },
   "outputs": [],
   "source": [
    "# df_users = df_users.transpose()"
   ]
  },
  {
   "cell_type": "code",
   "execution_count": 61,
   "metadata": {
    "collapsed": false,
    "scrolled": true
   },
   "outputs": [
    {
     "name": "stdout",
     "output_type": "stream",
     "text": [
      "<class 'pandas.core.frame.DataFrame'>\n",
      "Int64Index: 1149780 entries, 0 to 1149779\n",
      "Data columns (total 3 columns):\n",
      "User-ID        1149780 non-null int64\n",
      "ISBN           1149780 non-null object\n",
      "Book-Rating    1149780 non-null int64\n",
      "dtypes: int64(2), object(1)\n",
      "memory usage: 35.1+ MB\n"
     ]
    }
   ],
   "source": [
    "df_book_ratings.head()\n",
    "# df_book_ratings['ISBN'] = df_book_ratings['ISBN'].astype(str)\n",
    "df_book_ratings.info()\n",
    "\n",
    "# book ratings contain user id, book isbn, and rating.  No nullsb"
   ]
  },
  {
   "cell_type": "code",
   "execution_count": 62,
   "metadata": {
    "collapsed": false
   },
   "outputs": [
    {
     "name": "stdout",
     "output_type": "stream",
     "text": [
      "<class 'pandas.core.frame.DataFrame'>\n",
      "Int64Index: 75509 entries, 8 to 1149772\n",
      "Data columns (total 3 columns):\n",
      "User-ID        75509 non-null int64\n",
      "ISBN           75509 non-null object\n",
      "Book-Rating    75509 non-null int64\n",
      "dtypes: int64(2), object(1)\n",
      "memory usage: 2.3+ MB\n"
     ]
    }
   ],
   "source": [
    "n = 250\n",
    "top_n = df_book_ratings.ISBN.value_counts().index[:n]\n",
    "df = df_book_ratings[df_book_ratings.ISBN.isin(top_n)]\n",
    "df.head()\n",
    "df.info()"
   ]
  },
  {
   "cell_type": "code",
   "execution_count": 63,
   "metadata": {
    "collapsed": false
   },
   "outputs": [
    {
     "data": {
      "text/html": [
       "<div>\n",
       "<table border=\"1\" class=\"dataframe\">\n",
       "  <thead>\n",
       "    <tr style=\"text-align: right;\">\n",
       "      <th></th>\n",
       "      <th>User-ID</th>\n",
       "      <th>9</th>\n",
       "      <th>14</th>\n",
       "      <th>16</th>\n",
       "      <th>26</th>\n",
       "      <th>44</th>\n",
       "      <th>51</th>\n",
       "      <th>67</th>\n",
       "      <th>75</th>\n",
       "      <th>91</th>\n",
       "      <th>95</th>\n",
       "      <th>...</th>\n",
       "      <th>278771</th>\n",
       "      <th>278773</th>\n",
       "      <th>278798</th>\n",
       "      <th>278800</th>\n",
       "      <th>278813</th>\n",
       "      <th>278828</th>\n",
       "      <th>278832</th>\n",
       "      <th>278843</th>\n",
       "      <th>278844</th>\n",
       "      <th>278854</th>\n",
       "    </tr>\n",
       "    <tr>\n",
       "      <th></th>\n",
       "      <th>ISBN</th>\n",
       "      <th></th>\n",
       "      <th></th>\n",
       "      <th></th>\n",
       "      <th></th>\n",
       "      <th></th>\n",
       "      <th></th>\n",
       "      <th></th>\n",
       "      <th></th>\n",
       "      <th></th>\n",
       "      <th></th>\n",
       "      <th></th>\n",
       "      <th></th>\n",
       "      <th></th>\n",
       "      <th></th>\n",
       "      <th></th>\n",
       "      <th></th>\n",
       "      <th></th>\n",
       "      <th></th>\n",
       "      <th></th>\n",
       "      <th></th>\n",
       "      <th></th>\n",
       "    </tr>\n",
       "  </thead>\n",
       "  <tbody>\n",
       "    <tr>\n",
       "      <th rowspan=\"5\" valign=\"top\">Book-Rating</th>\n",
       "      <th>0060392452</th>\n",
       "      <td>NaN</td>\n",
       "      <td>NaN</td>\n",
       "      <td>NaN</td>\n",
       "      <td>NaN</td>\n",
       "      <td>NaN</td>\n",
       "      <td>NaN</td>\n",
       "      <td>NaN</td>\n",
       "      <td>NaN</td>\n",
       "      <td>NaN</td>\n",
       "      <td>NaN</td>\n",
       "      <td>...</td>\n",
       "      <td>NaN</td>\n",
       "      <td>NaN</td>\n",
       "      <td>NaN</td>\n",
       "      <td>NaN</td>\n",
       "      <td>NaN</td>\n",
       "      <td>NaN</td>\n",
       "      <td>NaN</td>\n",
       "      <td>NaN</td>\n",
       "      <td>NaN</td>\n",
       "      <td>NaN</td>\n",
       "    </tr>\n",
       "    <tr>\n",
       "      <th>0060502258</th>\n",
       "      <td>NaN</td>\n",
       "      <td>NaN</td>\n",
       "      <td>NaN</td>\n",
       "      <td>NaN</td>\n",
       "      <td>NaN</td>\n",
       "      <td>NaN</td>\n",
       "      <td>NaN</td>\n",
       "      <td>NaN</td>\n",
       "      <td>NaN</td>\n",
       "      <td>NaN</td>\n",
       "      <td>...</td>\n",
       "      <td>NaN</td>\n",
       "      <td>NaN</td>\n",
       "      <td>NaN</td>\n",
       "      <td>NaN</td>\n",
       "      <td>NaN</td>\n",
       "      <td>NaN</td>\n",
       "      <td>NaN</td>\n",
       "      <td>NaN</td>\n",
       "      <td>NaN</td>\n",
       "      <td>NaN</td>\n",
       "    </tr>\n",
       "    <tr>\n",
       "      <th>0060915544</th>\n",
       "      <td>NaN</td>\n",
       "      <td>NaN</td>\n",
       "      <td>NaN</td>\n",
       "      <td>NaN</td>\n",
       "      <td>NaN</td>\n",
       "      <td>NaN</td>\n",
       "      <td>NaN</td>\n",
       "      <td>NaN</td>\n",
       "      <td>NaN</td>\n",
       "      <td>NaN</td>\n",
       "      <td>...</td>\n",
       "      <td>NaN</td>\n",
       "      <td>NaN</td>\n",
       "      <td>NaN</td>\n",
       "      <td>NaN</td>\n",
       "      <td>NaN</td>\n",
       "      <td>NaN</td>\n",
       "      <td>NaN</td>\n",
       "      <td>NaN</td>\n",
       "      <td>NaN</td>\n",
       "      <td>NaN</td>\n",
       "    </tr>\n",
       "    <tr>\n",
       "      <th>0060928336</th>\n",
       "      <td>NaN</td>\n",
       "      <td>NaN</td>\n",
       "      <td>NaN</td>\n",
       "      <td>NaN</td>\n",
       "      <td>NaN</td>\n",
       "      <td>NaN</td>\n",
       "      <td>NaN</td>\n",
       "      <td>NaN</td>\n",
       "      <td>NaN</td>\n",
       "      <td>NaN</td>\n",
       "      <td>...</td>\n",
       "      <td>NaN</td>\n",
       "      <td>NaN</td>\n",
       "      <td>NaN</td>\n",
       "      <td>NaN</td>\n",
       "      <td>NaN</td>\n",
       "      <td>NaN</td>\n",
       "      <td>NaN</td>\n",
       "      <td>NaN</td>\n",
       "      <td>NaN</td>\n",
       "      <td>NaN</td>\n",
       "    </tr>\n",
       "    <tr>\n",
       "      <th>0060930535</th>\n",
       "      <td>NaN</td>\n",
       "      <td>NaN</td>\n",
       "      <td>NaN</td>\n",
       "      <td>NaN</td>\n",
       "      <td>NaN</td>\n",
       "      <td>NaN</td>\n",
       "      <td>NaN</td>\n",
       "      <td>NaN</td>\n",
       "      <td>NaN</td>\n",
       "      <td>NaN</td>\n",
       "      <td>...</td>\n",
       "      <td>NaN</td>\n",
       "      <td>NaN</td>\n",
       "      <td>NaN</td>\n",
       "      <td>NaN</td>\n",
       "      <td>NaN</td>\n",
       "      <td>NaN</td>\n",
       "      <td>NaN</td>\n",
       "      <td>NaN</td>\n",
       "      <td>NaN</td>\n",
       "      <td>NaN</td>\n",
       "    </tr>\n",
       "  </tbody>\n",
       "</table>\n",
       "<p>5 rows × 23516 columns</p>\n",
       "</div>"
      ],
      "text/plain": [
       "User-ID                 9       14      16      26      44      51      \\\n",
       "            ISBN                                                         \n",
       "Book-Rating 0060392452     NaN     NaN     NaN     NaN     NaN     NaN   \n",
       "            0060502258     NaN     NaN     NaN     NaN     NaN     NaN   \n",
       "            0060915544     NaN     NaN     NaN     NaN     NaN     NaN   \n",
       "            0060928336     NaN     NaN     NaN     NaN     NaN     NaN   \n",
       "            0060930535     NaN     NaN     NaN     NaN     NaN     NaN   \n",
       "\n",
       "User-ID                 67      75      91      95       ...    278771  \\\n",
       "            ISBN                                         ...             \n",
       "Book-Rating 0060392452     NaN     NaN     NaN     NaN   ...       NaN   \n",
       "            0060502258     NaN     NaN     NaN     NaN   ...       NaN   \n",
       "            0060915544     NaN     NaN     NaN     NaN   ...       NaN   \n",
       "            0060928336     NaN     NaN     NaN     NaN   ...       NaN   \n",
       "            0060930535     NaN     NaN     NaN     NaN   ...       NaN   \n",
       "\n",
       "User-ID                 278773  278798  278800  278813  278828  278832  \\\n",
       "            ISBN                                                         \n",
       "Book-Rating 0060392452     NaN     NaN     NaN     NaN     NaN     NaN   \n",
       "            0060502258     NaN     NaN     NaN     NaN     NaN     NaN   \n",
       "            0060915544     NaN     NaN     NaN     NaN     NaN     NaN   \n",
       "            0060928336     NaN     NaN     NaN     NaN     NaN     NaN   \n",
       "            0060930535     NaN     NaN     NaN     NaN     NaN     NaN   \n",
       "\n",
       "User-ID                 278843  278844  278854  \n",
       "            ISBN                                \n",
       "Book-Rating 0060392452     NaN     NaN     NaN  \n",
       "            0060502258     NaN     NaN     NaN  \n",
       "            0060915544     NaN     NaN     NaN  \n",
       "            0060928336     NaN     NaN     NaN  \n",
       "            0060930535     NaN     NaN     NaN  \n",
       "\n",
       "[5 rows x 23516 columns]"
      ]
     },
     "execution_count": 63,
     "metadata": {},
     "output_type": "execute_result"
    }
   ],
   "source": [
    "df_pivot = pd.pivot_table(df, values=[\"Book-Rating\"],\n",
    "        columns=[\"ISBN\", \"User-ID\"],\n",
    "        aggfunc=np.mean)\n",
    "df_wide = df_pivot.unstack(-1)\n",
    "df_wide.head()"
   ]
  },
  {
   "cell_type": "code",
   "execution_count": 64,
   "metadata": {
    "collapsed": false
   },
   "outputs": [],
   "source": [
    "df_wide = df_wide.fillna(0)\n",
    "ISBN = df_wide.index.levels[1]"
   ]
  },
  {
   "cell_type": "code",
   "execution_count": null,
   "metadata": {
    "collapsed": false
   },
   "outputs": [],
   "source": []
  },
  {
   "cell_type": "code",
   "execution_count": 65,
   "metadata": {
    "collapsed": true
   },
   "outputs": [],
   "source": [
    "from sklearn.metrics.pairwise import cosine_similarity\n"
   ]
  },
  {
   "cell_type": "code",
   "execution_count": 66,
   "metadata": {
    "collapsed": false
   },
   "outputs": [
    {
     "data": {
      "text/plain": [
       "array([[ 1.        ,  0.01683897,  0.03071446, ...,  0.0166331 ,\n",
       "         0.0296131 ,  0.0166903 ],\n",
       "       [ 0.01683897,  1.        ,  0.        , ...,  0.03407822,\n",
       "         0.02110809,  0.0177689 ],\n",
       "       [ 0.03071446,  0.        ,  1.        , ...,  0.01634543,\n",
       "         0.0593462 ,  0.        ],\n",
       "       ..., \n",
       "       [ 0.0166331 ,  0.03407822,  0.01634543, ...,  1.        ,\n",
       "         0.03397007,  0.01520413],\n",
       "       [ 0.0296131 ,  0.02110809,  0.0593462 , ...,  0.03397007,\n",
       "         1.        ,  0.02970534],\n",
       "       [ 0.0166903 ,  0.0177689 ,  0.        , ...,  0.01520413,\n",
       "         0.02970534,  1.        ]])"
      ]
     },
     "execution_count": 66,
     "metadata": {},
     "output_type": "execute_result"
    }
   ],
   "source": [
    "dists = cosine_similarity(df_wide)\n",
    "dists"
   ]
  },
  {
   "cell_type": "code",
   "execution_count": 67,
   "metadata": {
    "collapsed": false,
    "scrolled": true
   },
   "outputs": [
    {
     "data": {
      "text/html": [
       "<div>\n",
       "<table border=\"1\" class=\"dataframe\">\n",
       "  <thead>\n",
       "    <tr style=\"text-align: right;\">\n",
       "      <th>ISBN</th>\n",
       "      <th>0060392452</th>\n",
       "      <th>0060502258</th>\n",
       "      <th>0060915544</th>\n",
       "      <th>0060928336</th>\n",
       "      <th>0060930535</th>\n",
       "      <th>0060934417</th>\n",
       "      <th>0060938455</th>\n",
       "      <th>0060959037</th>\n",
       "      <th>0060976845</th>\n",
       "      <th>0060977493</th>\n",
       "    </tr>\n",
       "    <tr>\n",
       "      <th>ISBN</th>\n",
       "      <th></th>\n",
       "      <th></th>\n",
       "      <th></th>\n",
       "      <th></th>\n",
       "      <th></th>\n",
       "      <th></th>\n",
       "      <th></th>\n",
       "      <th></th>\n",
       "      <th></th>\n",
       "      <th></th>\n",
       "    </tr>\n",
       "  </thead>\n",
       "  <tbody>\n",
       "    <tr>\n",
       "      <th>0060392452</th>\n",
       "      <td>1.000000</td>\n",
       "      <td>0.016839</td>\n",
       "      <td>0.030714</td>\n",
       "      <td>0.017810</td>\n",
       "      <td>0.019459</td>\n",
       "      <td>0.015239</td>\n",
       "      <td>0.077219</td>\n",
       "      <td>0.008105</td>\n",
       "      <td>0.038340</td>\n",
       "      <td>0.028233</td>\n",
       "    </tr>\n",
       "    <tr>\n",
       "      <th>0060502258</th>\n",
       "      <td>0.016839</td>\n",
       "      <td>1.000000</td>\n",
       "      <td>0.000000</td>\n",
       "      <td>0.036336</td>\n",
       "      <td>0.017129</td>\n",
       "      <td>0.019925</td>\n",
       "      <td>0.010564</td>\n",
       "      <td>0.000000</td>\n",
       "      <td>0.048397</td>\n",
       "      <td>0.000000</td>\n",
       "    </tr>\n",
       "    <tr>\n",
       "      <th>0060915544</th>\n",
       "      <td>0.030714</td>\n",
       "      <td>0.000000</td>\n",
       "      <td>1.000000</td>\n",
       "      <td>0.039117</td>\n",
       "      <td>0.049460</td>\n",
       "      <td>0.053821</td>\n",
       "      <td>0.033138</td>\n",
       "      <td>0.076881</td>\n",
       "      <td>0.045099</td>\n",
       "      <td>0.046929</td>\n",
       "    </tr>\n",
       "    <tr>\n",
       "      <th>0060928336</th>\n",
       "      <td>0.017810</td>\n",
       "      <td>0.036336</td>\n",
       "      <td>0.039117</td>\n",
       "      <td>1.000000</td>\n",
       "      <td>0.065191</td>\n",
       "      <td>0.028421</td>\n",
       "      <td>0.016117</td>\n",
       "      <td>0.034256</td>\n",
       "      <td>0.131663</td>\n",
       "      <td>0.020998</td>\n",
       "    </tr>\n",
       "    <tr>\n",
       "      <th>0060930535</th>\n",
       "      <td>0.019459</td>\n",
       "      <td>0.017129</td>\n",
       "      <td>0.049460</td>\n",
       "      <td>0.065191</td>\n",
       "      <td>1.000000</td>\n",
       "      <td>0.020488</td>\n",
       "      <td>0.010031</td>\n",
       "      <td>0.026412</td>\n",
       "      <td>0.047523</td>\n",
       "      <td>0.046376</td>\n",
       "    </tr>\n",
       "    <tr>\n",
       "      <th>0060934417</th>\n",
       "      <td>0.015239</td>\n",
       "      <td>0.019925</td>\n",
       "      <td>0.053821</td>\n",
       "      <td>0.028421</td>\n",
       "      <td>0.020488</td>\n",
       "      <td>1.000000</td>\n",
       "      <td>0.012283</td>\n",
       "      <td>0.038548</td>\n",
       "      <td>0.031993</td>\n",
       "      <td>0.025512</td>\n",
       "    </tr>\n",
       "    <tr>\n",
       "      <th>0060938455</th>\n",
       "      <td>0.077219</td>\n",
       "      <td>0.010564</td>\n",
       "      <td>0.033138</td>\n",
       "      <td>0.016117</td>\n",
       "      <td>0.010031</td>\n",
       "      <td>0.012283</td>\n",
       "      <td>1.000000</td>\n",
       "      <td>0.011089</td>\n",
       "      <td>0.011204</td>\n",
       "      <td>0.017668</td>\n",
       "    </tr>\n",
       "    <tr>\n",
       "      <th>0060959037</th>\n",
       "      <td>0.008105</td>\n",
       "      <td>0.000000</td>\n",
       "      <td>0.076881</td>\n",
       "      <td>0.034256</td>\n",
       "      <td>0.026412</td>\n",
       "      <td>0.038548</td>\n",
       "      <td>0.011089</td>\n",
       "      <td>1.000000</td>\n",
       "      <td>0.022421</td>\n",
       "      <td>0.013870</td>\n",
       "    </tr>\n",
       "    <tr>\n",
       "      <th>0060976845</th>\n",
       "      <td>0.038340</td>\n",
       "      <td>0.048397</td>\n",
       "      <td>0.045099</td>\n",
       "      <td>0.131663</td>\n",
       "      <td>0.047523</td>\n",
       "      <td>0.031993</td>\n",
       "      <td>0.011204</td>\n",
       "      <td>0.022421</td>\n",
       "      <td>1.000000</td>\n",
       "      <td>0.011713</td>\n",
       "    </tr>\n",
       "    <tr>\n",
       "      <th>0060977493</th>\n",
       "      <td>0.028233</td>\n",
       "      <td>0.000000</td>\n",
       "      <td>0.046929</td>\n",
       "      <td>0.020998</td>\n",
       "      <td>0.046376</td>\n",
       "      <td>0.025512</td>\n",
       "      <td>0.017668</td>\n",
       "      <td>0.013870</td>\n",
       "      <td>0.011713</td>\n",
       "      <td>1.000000</td>\n",
       "    </tr>\n",
       "  </tbody>\n",
       "</table>\n",
       "</div>"
      ],
      "text/plain": [
       "ISBN        0060392452  0060502258  0060915544  0060928336  0060930535  \\\n",
       "ISBN                                                                     \n",
       "0060392452    1.000000    0.016839    0.030714    0.017810    0.019459   \n",
       "0060502258    0.016839    1.000000    0.000000    0.036336    0.017129   \n",
       "0060915544    0.030714    0.000000    1.000000    0.039117    0.049460   \n",
       "0060928336    0.017810    0.036336    0.039117    1.000000    0.065191   \n",
       "0060930535    0.019459    0.017129    0.049460    0.065191    1.000000   \n",
       "0060934417    0.015239    0.019925    0.053821    0.028421    0.020488   \n",
       "0060938455    0.077219    0.010564    0.033138    0.016117    0.010031   \n",
       "0060959037    0.008105    0.000000    0.076881    0.034256    0.026412   \n",
       "0060976845    0.038340    0.048397    0.045099    0.131663    0.047523   \n",
       "0060977493    0.028233    0.000000    0.046929    0.020998    0.046376   \n",
       "\n",
       "ISBN        0060934417  0060938455  0060959037  0060976845  0060977493  \n",
       "ISBN                                                                    \n",
       "0060392452    0.015239    0.077219    0.008105    0.038340    0.028233  \n",
       "0060502258    0.019925    0.010564    0.000000    0.048397    0.000000  \n",
       "0060915544    0.053821    0.033138    0.076881    0.045099    0.046929  \n",
       "0060928336    0.028421    0.016117    0.034256    0.131663    0.020998  \n",
       "0060930535    0.020488    0.010031    0.026412    0.047523    0.046376  \n",
       "0060934417    1.000000    0.012283    0.038548    0.031993    0.025512  \n",
       "0060938455    0.012283    1.000000    0.011089    0.011204    0.017668  \n",
       "0060959037    0.038548    0.011089    1.000000    0.022421    0.013870  \n",
       "0060976845    0.031993    0.011204    0.022421    1.000000    0.011713  \n",
       "0060977493    0.025512    0.017668    0.013870    0.011713    1.000000  "
      ]
     },
     "execution_count": 67,
     "metadata": {},
     "output_type": "execute_result"
    }
   ],
   "source": [
    "dists = pd.DataFrame(dists)\n",
    "dists.columns = ISBN\n",
    "dists.index = ISBN\n",
    "dists.ix[0:10, 0:10]"
   ]
  },
  {
   "cell_type": "code",
   "execution_count": 74,
   "metadata": {
    "collapsed": false
   },
   "outputs": [
    {
     "data": {
      "text/html": [
       "<div>\n",
       "<table border=\"1\" class=\"dataframe\">\n",
       "  <thead>\n",
       "    <tr style=\"text-align: right;\">\n",
       "      <th>ISBN</th>\n",
       "      <th>0060392452</th>\n",
       "      <th>0060930535</th>\n",
       "    </tr>\n",
       "    <tr>\n",
       "      <th>ISBN</th>\n",
       "      <th></th>\n",
       "      <th></th>\n",
       "    </tr>\n",
       "  </thead>\n",
       "  <tbody>\n",
       "    <tr>\n",
       "      <th>0060392452</th>\n",
       "      <td>1.000000</td>\n",
       "      <td>0.019459</td>\n",
       "    </tr>\n",
       "    <tr>\n",
       "      <th>0060502258</th>\n",
       "      <td>0.016839</td>\n",
       "      <td>0.017129</td>\n",
       "    </tr>\n",
       "    <tr>\n",
       "      <th>0060915544</th>\n",
       "      <td>0.030714</td>\n",
       "      <td>0.049460</td>\n",
       "    </tr>\n",
       "    <tr>\n",
       "      <th>0060928336</th>\n",
       "      <td>0.017810</td>\n",
       "      <td>0.065191</td>\n",
       "    </tr>\n",
       "    <tr>\n",
       "      <th>0060930535</th>\n",
       "      <td>0.019459</td>\n",
       "      <td>1.000000</td>\n",
       "    </tr>\n",
       "  </tbody>\n",
       "</table>\n",
       "</div>"
      ],
      "text/plain": [
       "ISBN        0060392452  0060930535\n",
       "ISBN                              \n",
       "0060392452    1.000000    0.019459\n",
       "0060502258    0.016839    0.017129\n",
       "0060915544    0.030714    0.049460\n",
       "0060928336    0.017810    0.065191\n",
       "0060930535    0.019459    1.000000"
      ]
     },
     "execution_count": 74,
     "metadata": {},
     "output_type": "execute_result"
    }
   ],
   "source": [
    "books_i_like = ['0060392452','0060930535']\n",
    "dists[books_i_like].head()"
   ]
  },
  {
   "cell_type": "code",
   "execution_count": 75,
   "metadata": {
    "collapsed": false,
    "scrolled": true
   },
   "outputs": [
    {
     "data": {
      "text/plain": [
       "ISBN\n",
       "0060392452    1.019459\n",
       "0060502258    0.033968\n",
       "0060915544    0.080175\n",
       "0060928336    0.083001\n",
       "0060930535    1.019459\n",
       "0060934417    0.035727\n",
       "0060938455    0.087249\n",
       "0060959037    0.034517\n",
       "0060976845    0.085863\n",
       "0060977493    0.074609\n",
       "0060987103    0.037464\n",
       "0060987529    0.076779\n",
       "0060987561    0.054545\n",
       "0061009059    0.054759\n",
       "006101351X    0.015143\n",
       "0061097101    0.048159\n",
       "0062502182    0.035490\n",
       "0064407667    0.037046\n",
       "0066214122    0.018551\n",
       "0070212570    0.035116\n",
       "0140067477    0.024414\n",
       "014023313X    0.044599\n",
       "0140244824    0.063035\n",
       "014025448X    0.057399\n",
       "014028009X    0.043141\n",
       "0140293248    0.081700\n",
       "014029628X    0.038120\n",
       "0140298479    0.059010\n",
       "0141000198    0.068632\n",
       "0142000205    0.044788\n",
       "                ...   \n",
       "0684872153    0.024257\n",
       "0684874350    0.048921\n",
       "0743225406    0.026417\n",
       "0743237188    0.075238\n",
       "0743418174    0.038936\n",
       "074343627X    0.013052\n",
       "0767900383    0.067484\n",
       "0767902521    0.097716\n",
       "0767905180    0.029294\n",
       "0786868716    0.046141\n",
       "0786881852    0.026178\n",
       "080410526X    0.027488\n",
       "0804106304    0.086689\n",
       "080410753X    0.057085\n",
       "080411109X    0.052232\n",
       "0804114986    0.078952\n",
       "080411868X    0.031434\n",
       "0805063897    0.035854\n",
       "0812550706    0.050388\n",
       "0842329129    0.020742\n",
       "0842329218    0.022119\n",
       "0871136791    0.020124\n",
       "0971880107    0.015783\n",
       "1400031354    0.070835\n",
       "1400034779    0.079716\n",
       "155874262X    0.007306\n",
       "1558743669    0.036453\n",
       "1559029838    0.016633\n",
       "1573225789    0.056759\n",
       "1573229326    0.020856\n",
       "dtype: float64"
      ]
     },
     "execution_count": 75,
     "metadata": {},
     "output_type": "execute_result"
    }
   ],
   "source": [
    "books_summed = dists[books_i_like].apply(lambda row: np.sum(row), axis=1)\n",
    "books_summed"
   ]
  },
  {
   "cell_type": "code",
   "execution_count": 80,
   "metadata": {
    "collapsed": true
   },
   "outputs": [],
   "source": [
    "def book_rec(ISBN_rec, k):\n",
    "    book_rec_sum = dists[ISBN_rec].apply(lambda row: np.sum(row), axis=1)\n",
    "    ranked_books_rec = book_rec_sum.order(ascending=False)\n",
    "    ranked_books_rec_drop = ranked_books_rec.index[ranked_books_rec.index.isin(ISBN_rec)==False]\n",
    "    print list(ranked_books_rec_drop[:k])"
   ]
  },
  {
   "cell_type": "code",
   "execution_count": 81,
   "metadata": {
    "collapsed": false
   },
   "outputs": [
    {
     "name": "stdout",
     "output_type": "stream",
     "text": [
      "['0312195516', '0679781587', '0385484518', '0375727345', '0671038184', '0767902521', '0375706771', '0316601950', '0345361792', '0375703055']\n"
     ]
    }
   ],
   "source": [
    "book_rec(['0060392452','0060930535'],10)"
   ]
  },
  {
   "cell_type": "code",
   "execution_count": 82,
   "metadata": {
    "collapsed": true
   },
   "outputs": [],
   "source": [
    "import recsys.algorithm\n",
    "recsys.algorithm.VERBOSE = True\n",
    "from recsys.algorithm.factorize import SVD"
   ]
  },
  {
   "cell_type": "code",
   "execution_count": null,
   "metadata": {
    "collapsed": true
   },
   "outputs": [],
   "source": []
  },
  {
   "cell_type": "code",
   "execution_count": null,
   "metadata": {
    "collapsed": true
   },
   "outputs": [],
   "source": [
    "svd.load_data"
   ]
  }
 ],
 "metadata": {
  "kernelspec": {
   "display_name": "Python 2",
   "language": "python",
   "name": "python2"
  },
  "language_info": {
   "codemirror_mode": {
    "name": "ipython",
    "version": 2
   },
   "file_extension": ".py",
   "mimetype": "text/x-python",
   "name": "python",
   "nbconvert_exporter": "python",
   "pygments_lexer": "ipython2",
   "version": "2.7.10"
  }
 },
 "nbformat": 4,
 "nbformat_minor": 0
}
