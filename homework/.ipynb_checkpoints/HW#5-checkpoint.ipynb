{
 "cells": [
  {
   "cell_type": "markdown",
   "metadata": {},
   "source": [
    "##### "
   ]
  },
  {
   "cell_type": "code",
   "execution_count": null,
   "metadata": {
    "collapsed": false
   },
   "outputs": [],
   "source": [
    "import pandas as pd\n",
    "import numpy as np\n",
    "from sklearn.tree import DecisionTreeClassifier\n",
    "from sklearn.preprocessing import OneHotEncoder\n",
    "from sklearn.metrics import classification_report,confusion_matrix\n",
    "from sklearn.cross_validation import ShuffleSplit\n",
    "\n",
    "df = pd.DataFrame.from_csv(\"cancer_uci.csv\", header=0)\n",
    "\n",
    "# df.columns = [\"Sample_number\", \"Clump\",\"Cell_size\", \"Cell_shape\", \"Adhesion\", \"Epithelial\", \"Nuclei\",\"Chromatin\", \"Nucleoli\", \"Mitoses\",\"Class\"]\n",
    "df.tail()\n",
    "np.array(df.columns)"
   ]
  },
  {
   "cell_type": "code",
   "execution_count": null,
   "metadata": {
    "collapsed": false
   },
   "outputs": [],
   "source": [
    "df.info()\n",
    "df.Bare_Nuclei.count()\n",
    "df['Bare_Nuclei']"
   ]
  },
  {
   "cell_type": "code",
   "execution_count": null,
   "metadata": {
    "collapsed": false
   },
   "outputs": [],
   "source": [
    "Bare_Nuclei_int = []\n",
    "for row in df['Bare_Nuclei']:\n",
    "    if row == '?':\n",
    "        Bare_Nuclei_int.append(0)\n",
    "    else:\n",
    "        Bare_Nuclei_int.append(int(row))\n",
    "Bare_Nuclei_int"
   ]
  },
  {
   "cell_type": "code",
   "execution_count": null,
   "metadata": {
    "collapsed": false
   },
   "outputs": [],
   "source": [
    "class_binary = []\n",
    "for row in df['Class']:\n",
    "    if row == 'Malignant':\n",
    "        class_binary.append(1)\n",
    "    else:\n",
    "        class_binary.append(0)\n",
    "class_binary\n"
   ]
  },
  {
   "cell_type": "code",
   "execution_count": null,
   "metadata": {
    "collapsed": false
   },
   "outputs": [],
   "source": [
    "df['Class'] = class_binary\n",
    "df['Bare_Nuclei'] = Bare_Nuclei_int"
   ]
  },
  {
   "cell_type": "code",
   "execution_count": null,
   "metadata": {
    "collapsed": false
   },
   "outputs": [],
   "source": [
    "features_column = ['Sample_code_number', 'Clump_Thickness', 'Uniformity_of_Cell_Size',\n",
    "       'Uniformity_of_Cell_Shape', 'Marginal_Adhesion',\n",
    "       'Single_Epithelial_Cell_Size', 'Bare_Nuclei', 'Bland_Chromatin',\n",
    "       'Normal_Nucleoli', 'Mitoses']\n",
    "target_column = ['Class']\n",
    "\n",
    "features = df[features_column]\n",
    "target = df[target_column]\n"
   ]
  },
  {
   "cell_type": "code",
   "execution_count": null,
   "metadata": {
    "collapsed": false
   },
   "outputs": [],
   "source": [
    "# classes not evenly split, let's try oversampling the Malignant tumors\n",
    "\n",
    "# pos = df[df['Class'] == 1]\n",
    "# neg = df[df['Class'] == 0] "
   ]
  },
  {
   "cell_type": "code",
   "execution_count": null,
   "metadata": {
    "collapsed": false
   },
   "outputs": [],
   "source": [
    "from sklearn.svm import SVC\n",
    "\n",
    "\n",
    "# model_svc = SVC(kernel='linear',C=1).fit()\n",
    "\n",
    "\n",
    "for train,test in ShuffleSplit(len(df), n_iter=1, test_size=0.25,random_state=0):\n",
    "    train_df = df.iloc[train].drop(['Class'],axis=1)\n",
    "    pos = df[df['Class'] == 1]\n",
    "    neg = df[df['Class'] == 0]\n",
    "    oversample_df = pd.concat([pos,neg.sample(100, replace = True)])\n",
    "    data = oversample_df.drop('Class',axis=1)\n",
    "    label = oversample_df['Class']\n",
    "    SVC(kernel='linear',C=1).fit(data,label)\n",
    "    cm = confusion_matrix(df.Class.iloc[test],SVC.predict(df.drop(['Class'],axis=1).iloc[test]))\n",
    "    \n"
   ]
  },
  {
   "cell_type": "code",
   "execution_count": null,
   "metadata": {
    "collapsed": true
   },
   "outputs": [],
   "source": [
    "print(range(10))"
   ]
  },
  {
   "cell_type": "code",
   "execution_count": 10,
   "metadata": {
    "collapsed": false
   },
   "outputs": [],
   "source": [
    "from sklearn.preprocessing import StandardScaler"
   ]
  },
  {
   "cell_type": "code",
   "execution_count": null,
   "metadata": {
    "collapsed": true
   },
   "outputs": [],
   "source": [
    "scaler = StandardScaler()\n",
    "    "
   ]
  },
  {
   "cell_type": "code",
   "execution_count": 14,
   "metadata": {
    "collapsed": false
   },
   "outputs": [],
   "source": [
    "# Train test split (not CV yet)\n",
    "\n",
    "index = range(0,len(df))\n",
    "np.random.shuffle(index)\n",
    "train = index[:len(df)*3/5]\n",
    "test = index[len(df)*3/5:]"
   ]
  },
  {
   "cell_type": "code",
   "execution_count": null,
   "metadata": {
    "collapsed": true
   },
   "outputs": [],
   "source": []
  },
  {
   "cell_type": "code",
   "execution_count": null,
   "metadata": {
    "collapsed": true
   },
   "outputs": [],
   "source": []
  },
  {
   "cell_type": "code",
   "execution_count": 17,
   "metadata": {
    "collapsed": false,
    "scrolled": true
   },
   "outputs": [],
   "source": [
    "# df_scaled = StandardScaler.fit_transform(features)"
   ]
  },
  {
   "cell_type": "code",
   "execution_count": null,
   "metadata": {
    "collapsed": false
   },
   "outputs": [],
   "source": []
  },
  {
   "cell_type": "code",
   "execution_count": 1,
   "metadata": {
    "collapsed": true
   },
   "outputs": [],
   "source": []
  },
  {
   "cell_type": "code",
   "execution_count": null,
   "metadata": {
    "collapsed": true
   },
   "outputs": [],
   "source": []
  }
 ],
 "metadata": {
  "kernelspec": {
   "display_name": "Python 2",
   "language": "python",
   "name": "python2"
  },
  "language_info": {
   "codemirror_mode": {
    "name": "ipython",
    "version": 2
   },
   "file_extension": ".py",
   "mimetype": "text/x-python",
   "name": "python",
   "nbconvert_exporter": "python",
   "pygments_lexer": "ipython2",
   "version": "2.7.10"
  }
 },
 "nbformat": 4,
 "nbformat_minor": 0
}
