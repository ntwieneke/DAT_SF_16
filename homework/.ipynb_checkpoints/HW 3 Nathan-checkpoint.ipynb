{
 "cells": [
  {
   "cell_type": "markdown",
   "metadata": {},
   "source": [
    "# HW 3 Nathan\n",
    "\n",
    "This homework contains data on with stats on various medical information for a set of Pima Indians patients.\n",
    "\n",
    "Some data is 'missing' (ie. a person cannot have a BMI of 0) but has a zero value rather than a null value.  Since it is physically impossible for these values to be 0, I will remove those rows from the dataframe used in the algorithim.\n",
    "\n",
    "There are 9 features that have been normalized."
   ]
  },
  {
   "cell_type": "markdown",
   "metadata": {},
   "source": [
    "Attribute information:  \n",
    "  \n",
    "  1. Number of times pregnant\n",
    "   2. Plasma glucose concentration a 2 hours in an oral glucose tolerance test\n",
    "   3. Diastolic blood pressure (mm Hg)\n",
    "   4. Triceps skin fold thickness (mm)\n",
    "   5. 2-Hour serum insulin (mu U/ml)\n",
    "   6. Body mass index (weight in kg/(height in m)^2)\n",
    "   7. Diabetes pedigree function\n",
    "   8. Age (years)\n",
    "   9. Class variable (0 or 1)\n",
    "   (class value 1 is interpreted as \"tested positive for\n",
    "   diabetes\")"
   ]
  },
  {
   "cell_type": "code",
   "execution_count": 46,
   "metadata": {
    "collapsed": false
   },
   "outputs": [],
   "source": [
    "import pandas as pd\n",
    "import numpy as np\n",
    "\n",
    "df = pd.DataFrame.from_csv(\"pima_indian_diabetes.csv\", header=None, index_col=None)\n",
    "df.head()\n",
    "df.columns = [\"Pregnant\", \"Glucose\",\"Blood_Pressure\", \"Triceps\", \"Insulin\", \"BMI\", \"Pedigree\",\"Age\", \"Class\"]"
   ]
  },
  {
   "cell_type": "code",
   "execution_count": 49,
   "metadata": {
    "collapsed": false
   },
   "outputs": [
    {
     "name": "stdout",
     "output_type": "stream",
     "text": [
      "<class 'pandas.core.frame.DataFrame'>\n",
      "Int64Index: 768 entries, 0 to 767\n",
      "Data columns (total 9 columns):\n",
      "Pregnant          768 non-null int64\n",
      "Glucose           768 non-null int64\n",
      "Blood_Pressure    768 non-null int64\n",
      "Triceps           768 non-null int64\n",
      "Insulin           768 non-null int64\n",
      "BMI               768 non-null float64\n",
      "Pedigree          768 non-null float64\n",
      "Age               768 non-null int64\n",
      "Class             768 non-null int64\n",
      "dtypes: float64(2), int64(7)\n",
      "memory usage: 60.0 KB\n"
     ]
    }
   ],
   "source": [
    "df.head()\n",
    "df.describe()\n",
    "df.info()"
   ]
  },
  {
   "cell_type": "code",
   "execution_count": 48,
   "metadata": {
    "collapsed": false
   },
   "outputs": [
    {
     "name": "stdout",
     "output_type": "stream",
     "text": [
      "Empty DataFrame\n",
      "Columns: [Pregnant, Glucose, Blood_Pressure, Triceps, Insulin, BMI, Pedigree, Age, Class]\n",
      "Index: []\n",
      "Empty DataFrame\n",
      "Columns: [Pregnant, Glucose, Blood_Pressure, Triceps, Insulin, BMI, Pedigree, Age, Class]\n",
      "Index: []\n",
      "Empty DataFrame\n",
      "Columns: [Pregnant, Glucose, Blood_Pressure, Triceps, Insulin, BMI, Pedigree, Age, Class]\n",
      "Index: []\n",
      "Empty DataFrame\n",
      "Columns: [Pregnant, Glucose, Blood_Pressure, Triceps, Insulin, BMI, Pedigree, Age, Class]\n",
      "Index: []\n"
     ]
    }
   ],
   "source": [
    "# print(df[df.BMI == 0])\n",
    "# print(df[df.Glucose == 0])\n",
    "# print(df[df.Blood_Pressure == 0])\n",
    "# print(df[df.Triceps == 0])\n",
    "\n",
    "# These are columns with that have values of 0 where it is physically impossible, they will need to be cleaned\n",
    "\n",
    "df_clean = df[df.BMI != 0]\n",
    "df_clean = df_clean[df_clean.Blood_Pressure != 0]\n",
    "df_clean = df_clean[df_clean.Glucose != 0]\n",
    "df_clean = df_clean[df_clean.Triceps != 0]\n",
    "\n",
    "# verify that cleaning worked:\n",
    "\n",
    "\n",
    "print(df_clean[df_clean.BMI == 0])\n",
    "print(df_clean[df_clean.Glucose == 0])\n",
    "print(df_clean[df_clean.Blood_Pressure == 0])\n",
    "print(df_clean[df_clean.Triceps == 0])\n"
   ]
  },
  {
   "cell_type": "code",
   "execution_count": 50,
   "metadata": {
    "collapsed": true
   },
   "outputs": [],
   "source": [
    "# df_clean should now have all rows without 0 values of essential features, time to setup KNN\n",
    "\n",
    "from sklearn.neighbors import KNeighborsClassifier\n",
    "\n",
    "model = KNeighborsClassifier(5)\n",
    "\n",
    "to_predict = \"Class\"\n",
    "features=[\"Pregnant\", \"Glucose\",\"Blood_Pressure\", \"Triceps\", \"Insulin\", \"BMI\", \"Pedigree\",\"Age\"]\n",
    "data = df_clean[features]\n",
    "label = df_clean[to_predict]\n",
    "folds=5\n",
    "\n"
   ]
  },
  {
   "cell_type": "code",
   "execution_count": 51,
   "metadata": {
    "collapsed": true
   },
   "outputs": [],
   "source": [
    "# crossvalidate code from lecture:\n",
    "\n",
    "def crossValidateScoreDataFrame(data,label,k,model):\n",
    "    positions = data.index.values\n",
    "    np.random.shuffle(positions)\n",
    "    cv_score=0\n",
    "\n",
    "    for i in range(k):\n",
    "        pos_var = len(data)/k\n",
    "        \n",
    "        test_slice = positions[i*pos_var:(i+1)*pos_var]\n",
    "\n",
    "        train_1 = positions[ :i*pos_var]\n",
    "        train_2 = positions[(i+1)*pos_var:]\n",
    "        train_slice = np.concatenate([train_1,train_2])\n",
    "\n",
    "        model.fit(data.loc[train_slice],label.loc[train_slice])\n",
    "        k_score = model.score(data.loc[test_slice],label.loc[test_slice])\n",
    "        cv_score += k_score\n",
    "        print k_score\n",
    "        \n",
    "    return  cv_score/k"
   ]
  },
  {
   "cell_type": "code",
   "execution_count": 52,
   "metadata": {
    "collapsed": false
   },
   "outputs": [
    {
     "name": "stdout",
     "output_type": "stream",
     "text": [
      "0.72641509434\n",
      "0.650943396226\n",
      "0.764150943396\n",
      "0.745283018868\n",
      "0.72641509434\n"
     ]
    },
    {
     "data": {
      "text/plain": [
       "0.72264150943396221"
      ]
     },
     "execution_count": 52,
     "metadata": {},
     "output_type": "execute_result"
    }
   ],
   "source": [
    "# running KNN\n",
    "\n",
    "crossValidateScoreDataFrame(data,label,5,model)\n",
    "\n",
    "# KNN can predict with about a %72 accuracy\n"
   ]
  },
  {
   "cell_type": "code",
   "execution_count": null,
   "metadata": {
    "collapsed": true
   },
   "outputs": [],
   "source": []
  }
 ],
 "metadata": {
  "kernelspec": {
   "display_name": "Python 2",
   "language": "python",
   "name": "python2"
  },
  "language_info": {
   "codemirror_mode": {
    "name": "ipython",
    "version": 2
   },
   "file_extension": ".py",
   "mimetype": "text/x-python",
   "name": "python",
   "nbconvert_exporter": "python",
   "pygments_lexer": "ipython2",
   "version": "2.7.10"
  }
 },
 "nbformat": 4,
 "nbformat_minor": 0
}
